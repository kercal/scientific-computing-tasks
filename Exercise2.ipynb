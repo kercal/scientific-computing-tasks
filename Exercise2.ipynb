{
 "cells": [
  {
   "cell_type": "markdown",
   "metadata": {},
   "source": [
    "# Sheet 2\n",
    "\n",
    "The purpose of this sheet is to get acquainted with the solution of linear systems using elementary methods. As a model problem, we will work with polynomial interpolation. We will also use this homework as an opportunity to examine and familiarize ourselves with the Numpy library for Python, which makes it extremely easy to work with arrays in general, and vectors and matrices in particular.\n",
    "\n",
    "---\n",
    "\n",
    "<div class=\"alert alert-info\">\n",
    "\n",
    "### NumPy and Linear Algebra in Python\n",
    "\n",
    "</div>\n",
    "\n",
    "There are several excellent sources of documentation for Numpy.\n",
    "\n",
    "<div class=\"alert alert-success\">\n",
    "    \n",
    "**Task 1:** Familiarize yourself with Numpy by reading the [quickstart tutorial](https://docs.scipy.org/doc/numpy/user/quickstart.html):\n",
    "- In particular, since we will be working with matrices (two-dimensional arrays), make sure you understand indexing and slicing.\n",
    "- Also, be aware of the semantics of assignments (view vs. copy), which is sometimes tricky for beginners. More [here](https://www.jessicayung.com/numpy-views-vs-copies-avoiding-costly-mistakes/) and [here](https://scipy-cookbook.readthedocs.io/items/ViewsVsCopies.html).\n",
    "</div>\n",
    "\n",
    "Let's get started by importing the relevant packages and doing some basic setup.\n"
   ]
  },
  {
   "cell_type": "code",
   "execution_count": 8,
   "metadata": {},
   "outputs": [],
   "source": [
    "import numpy as np              # basic arrays, vectors, matrices\n",
    "import numpy.linalg as la       # linear algebra functions\n",
    "import matplotlib.pyplot as plt # plotting\n",
    "\n",
    "%matplotlib inline"
   ]
  },
  {
   "cell_type": "markdown",
   "metadata": {},
   "source": [
    "---\n",
    "\n",
    "<div class=\"alert alert-info\">\n",
    "\n",
    "### Polynomial Interpolation\n",
    "\n",
    "</div>\n",
    "\n",
    "_Interpolation_ refers to the process of extrapolating from discrete measurements to a continuous function. A model problem is for example to compute the continuous trajectory $x(t)$ of an object over time from discrete snapshots $(t_i,x_i)$. _Polynomial interpolation_ specifically refers to describing the continuous function as a polynomial.\n",
    "\n",
    "Formally, the (one-dimensional) polynomial interpolation problem is described as follows: given a sequence of $n$ $x$-coordinates $(x_0,\\dots,x_n)$ with $x_i \\neq x_j$ if $i\\neq j$ and corresponding values $y_i \\in \\mathbb{R}$, determine a polynomial $p(x)$ of degree $n$ such that\n",
    "\n",
    "$$\n",
    "p(x_i)\\ =\\ a_n x^n + a_{n-1} x^{n-1} + \\cdots + a_1 x + a_0\\ \\stackrel{!}{=}\\ y_i,\\ \\ i=0,\\dots,n.\n",
    "$$\n",
    "\n",
    "This problem can be turned into a linear system, as follows:\n",
    "\n",
    "Let $v_j$ the vector of powers of $v_j$, i.e.\n",
    "\n",
    "$$v_j = (1, x_j, x_j^2, \\dots, x_j^n)^T,$$\n",
    "\n",
    "and let $a = (a_0, a_1, \\dots, a_n)^T$ the vector of coefficients of $p$. Then, the interpolation condition $p(x_i) = y_i$ can be written as the scalar product of $q_i$ and $a$, since\n",
    "\n",
    "$$\n",
    "p(x_i)\\ =\\ a_n x_i^n + \\cdots + a_1 x_i + 1 \\cdot a_0 = \\ a^T v_i\\  \\stackrel{!}{=} y_i\n",
    "$$\n",
    "\n",
    "Repeating this for $i=0,\\dots,n$, we obtain a linear system for the coefficients:\n",
    "\n",
    "$$\n",
    "\\begin{pmatrix}\n",
    "1 & x_0 & x_0^2 & \\cdots & x_0^n \\\\\n",
    "1 & x_1 & x_1^2 & \\cdots & x_1^n \\\\\n",
    "1 & x_2 & x_2^2 & \\cdots & x_2^n \\\\\n",
    "\\vdots & \\vdots &\\vdots &\\vdots & \\\\\n",
    "1 & x_n & x_n^2 & \\cdots & x_n^n \\\\\n",
    "\\end{pmatrix}\n",
    "\\begin{pmatrix} a_0 \\\\ a_1 \\\\ a_2 \\\\ \\vdots \\\\ a_n\\end{pmatrix} =\n",
    "\\begin{pmatrix} y_0 \\\\ y_1 \\\\ y_2 \\\\ \\vdots \\\\ y_n\\end{pmatrix}\n",
    "\\qquad\n",
    "$$\n",
    "\n",
    "or briefly using matrix notation\n",
    "\n",
    "$$V a = y$$\n",
    "\n",
    "The $(n+1)\\times (n+1)$ system matrix $V$ with $V_{ij} = x_i^j$ is called a _Vandermonde matrix_. A solution of the corresponding system gives the coefficients $a$ of the polynomial $p$.\n",
    "\n",
    "Let's consider a specific problem instance: first, define NumPy arrays containing the data $x_i$ and $y_i$:\n"
   ]
  },
  {
   "cell_type": "code",
   "execution_count": 9,
   "metadata": {},
   "outputs": [
    {
     "data": {
      "image/png": "[encoded data removed]",
      "text/plain": [
       "<Figure size 432x288 with 1 Axes>"
      ]
     },
     "metadata": {
      "needs_background": "light"
     },
     "output_type": "display_data"
    }
   ],
   "source": [
    "n = 4\n",
    "y = np.array( [3., 5, 2, 3, 1] )\n",
    "x = np.array( [0., 1, 2, 3, 4] )\n",
    "\n",
    "plt.plot( x, y, 'bo' );"
   ]
  },
  {
   "cell_type": "markdown",
   "metadata": {},
   "source": [
    "Graphically, our goal is to construct a polynomial of degree $4$ (since there are five points) that exactly passes through these points.\n",
    "\n",
    "(You have encountered this problem previously when constructing a line (= polynomial of degree one) given two points, or a parabola (= polynomial of degree two) that passes through three given points.\n",
    "\n",
    "We begin by constructing the Vandermonde system matrix for the $x_i$. Naively, we would write\n"
   ]
  },
  {
   "cell_type": "code",
   "execution_count": 10,
   "metadata": {},
   "outputs": [
    {
     "data": {
      "text/plain": [
       "array([[  1.,   0.,   0.,   0.,   0.],\n",
       "       [  1.,   1.,   1.,   1.,   1.],\n",
       "       [  1.,   2.,   4.,   8.,  16.],\n",
       "       [  1.,   3.,   9.,  27.,  81.],\n",
       "       [  1.,   4.,  16.,  64., 256.]])"
      ]
     },
     "execution_count": 10,
     "metadata": {},
     "output_type": "execute_result"
    }
   ],
   "source": [
    "V = np.empty( (n+1, n+1) )\n",
    "\n",
    "# directly fill in matrix entries\n",
    "for i in range(n+1):\n",
    "    for j in range(n+1):\n",
    "        V[i,j] = x[i]**j\n",
    "        \n",
    "V"
   ]
  },
  {
   "cell_type": "markdown",
   "metadata": {},
   "source": [
    "However, we can write this a little more compactly using a list comprehension:\n"
   ]
  },
  {
   "cell_type": "code",
   "execution_count": 11,
   "metadata": {},
   "outputs": [
    {
     "data": {
      "text/plain": [
       "array([[  1.,   1.,   1.,   1.,   1.],\n",
       "       [  0.,   1.,   2.,   3.,   4.],\n",
       "       [  0.,   1.,   4.,   9.,  16.],\n",
       "       [  0.,   1.,   8.,  27.,  64.],\n",
       "       [  0.,   1.,  16.,  81., 256.]])"
      ]
     },
     "execution_count": 11,
     "metadata": {},
     "output_type": "execute_result"
    }
   ],
   "source": [
    "# create a 2D array whose rows are the powers of x,\n",
    "# then transpose so the columns are the powers of x\n",
    "V = np.array( [x**p for p in range(n+1)] )\n",
    "V"
   ]
  },
  {
   "cell_type": "markdown",
   "metadata": {},
   "source": [
    "Even shorter: NumPy directly offers the [`vander`](https://docs.scipy.org/doc/numpy/reference/generated/numpy.vander.html) function for constructing $V$. By default, `vander` constructs the matrix such that the powers decrease along the rows of $V$; we thus need to pass `increasing=True` to match the order of $a$ we defined above.\n"
   ]
  },
  {
   "cell_type": "code",
   "execution_count": 12,
   "metadata": {
    "scrolled": true
   },
   "outputs": [
    {
     "data": {
      "text/plain": [
       "array([[  1.,   0.,   0.,   0.,   0.],\n",
       "       [  1.,   1.,   1.,   1.,   1.],\n",
       "       [  1.,   2.,   4.,   8.,  16.],\n",
       "       [  1.,   3.,   9.,  27.,  81.],\n",
       "       [  1.,   4.,  16.,  64., 256.]])"
      ]
     },
     "execution_count": 12,
     "metadata": {},
     "output_type": "execute_result"
    }
   ],
   "source": [
    "V = np.vander( x, increasing=True )\n",
    "V"
   ]
  },
  {
   "cell_type": "markdown",
   "metadata": {},
   "source": [
    "Now we can solve the system $Va = y$ for $a$ to obtain the coefficients of the polynomial $p$.\n"
   ]
  },
  {
   "cell_type": "markdown",
   "metadata": {},
   "source": [
    "---\n",
    "\n",
    "<div class=\"alert alert-info\">\n",
    "    \n",
    "### Gauss Elimination\n",
    "</div>\n",
    "\n",
    "The Gauss elimination algorithm can be used to solve the system above.\n"
   ]
  },
  {
   "cell_type": "markdown",
   "metadata": {},
   "source": [
    "<div class=\"alert alert-success\">\n",
    "    \n",
    "**Task 2:** Implement the Gauss algorithm (without pivoting) in two steps through the below functions:\n",
    "- `bwd_subs` should perform backward substitution to solve an upper tridiagonal system\n",
    "- `gauss_solve` should reduce the extended matrix $(A,b)$ to upper tridiagonal form via Gauss elimination, and then use `bwd_subs` to solve the system\n",
    "- It is always sensible to think about ways to validate your implementations, e.g. check that `bwd_subs` does the right thing.\n",
    "</div>\n"
   ]
  },
  {
   "cell_type": "code",
   "execution_count": 13,
   "metadata": {},
   "outputs": [
    {
     "data": {
      "image/png": "[encoded data removed]",
      "text/plain": [
       "<Figure size 432x288 with 1 Axes>"
      ]
     },
     "metadata": {
      "needs_background": "light"
     },
     "output_type": "display_data"
    }
   ],
   "source": [
    "import numpy as np\n",
    "\n",
    "def bwd_subs(U, y):\n",
    "    \"\"\"Solve the linear system Ux = y with upper triangular matrix U by backward substitution.\"\"\"\n",
    "    n = U.shape[0]\n",
    "    x = np.zeros(n)\n",
    "    \n",
    "    for i in range(n-1, -1, -1):\n",
    "        x[i] = (y[i] - np.dot(U[i, i+1:], x[i+1:])) / U[i, i]\n",
    "    \n",
    "    return x\n",
    "\n",
    "\n",
    "def gauss_solve(A, b):\n",
    "    \"\"\"Solve the linear system Ax=b using direct Gaussian elimination and backward substitution.\"\"\"\n",
    "    n = len(b)\n",
    "    # Create an augmented matrix\n",
    "    Ab = np.hstack([A, b.reshape(-1, 1)])\n",
    "    \n",
    "    # Gaussian elimination process\n",
    "    for i in range(n):\n",
    "        # Normalize the pivot row\n",
    "        Ab[i] = Ab[i] / Ab[i, i]\n",
    "        for j in range(i+1, n):\n",
    "            Ab[j] = Ab[j] - Ab[i] * Ab[j, i]\n",
    "    \n",
    "    # Separate the upper triangular matrix U and the modified vector b\n",
    "    U = Ab[:, :-1]\n",
    "    y = Ab[:, -1]\n",
    "    \n",
    "    # Perform backward substitution\n",
    "    x = bwd_subs(U, y)\n",
    "    \n",
    "    return x\n",
    "\n",
    "\n",
    "# Define the Vandermonde matrix V and the vector y\n",
    "V = np.vander(x, increasing=True)  # Vandermonde matrix\n",
    "\n",
    "# Solve the system using the implemented Gauss elimination function\n",
    "a = gauss_solve(V, y)\n",
    "\n",
    "# Generate points for plotting the polynomial\n",
    "xx = np.linspace(x.min(), x.max(), 100)\n",
    "yy = np.polyval(np.flip(a), xx)\n",
    "\n",
    "# Plot the polynomial and the original points\n",
    "plt.plot(xx, yy, 'r-', label='Fitted Polynomial')\n",
    "plt.plot(x, y, 'bo', label='Data Points')\n",
    "plt.legend()\n",
    "plt.title(\"Polynomial Fit using Gauss Elimination\")\n",
    "plt.xlabel(\"x\")\n",
    "plt.ylabel(\"y\")\n",
    "plt.show()\n"
   ]
  },
  {
   "cell_type": "markdown",
   "metadata": {},
   "source": [
    "Let's apply this to our problem and validate the solution graphically. NumPy conveniently provides the [`polyval`](https://docs.scipy.org/doc/numpy/reference/generated/numpy.polyval.html) function to evaluate the found polynomial.\n",
    "\n",
    "A potential showstopper is that `polyval` requires as input the coefficients in descending order (i.e. `a[0]` as the coefficient of $x^n$), while we compute them in ascending order (`a[n]` is the coefficient of $x^n$). This is however easily remedied using NumPy's [`flip`](https://docs.scipy.org/doc/numpy/reference/generated/numpy.flip.html?highlight=flip#numpy.flip) function.\n"
   ]
  },
  {
   "cell_type": "code",
   "execution_count": 14,
   "metadata": {
    "scrolled": true
   },
   "outputs": [
    {
     "data": {
      "image/png": "[encoded data removed]",
      "text/plain": [
       "<Figure size 432x288 with 1 Axes>"
      ]
     },
     "metadata": {
      "needs_background": "light"
     },
     "output_type": "display_data"
    }
   ],
   "source": [
    "a = gauss_solve( V, y )\n",
    "\n",
    "y = np.array( [3., 5, 2, 3, 1] )\n",
    "x = np.array( [0., 1, 2, 3, 4] )\n",
    "# plot output\n",
    "xx = np.linspace( x.min(), x.max(), 100 )\n",
    "yy = np.polyval( np.flip(a), xx )\n",
    "\n",
    "\n",
    "plt.plot( xx, yy, 'r-', x, y, 'bo' );"
   ]
  },
  {
   "cell_type": "markdown",
   "metadata": {},
   "source": [
    "Problem solved!\n"
   ]
  },
  {
   "cell_type": "markdown",
   "metadata": {},
   "source": [
    "---\n",
    "\n",
    "<div class=\"alert alert-info\">\n",
    "    \n",
    "### LU Decomposition\n",
    "</div>\n",
    "\n",
    "While Gauss elimination works well for a small number of points, for a large number of points it does not work well. Let's look at a larger problem instance:\n"
   ]
  },
  {
   "cell_type": "code",
   "execution_count": 8,
   "metadata": {},
   "outputs": [
    {
     "data": {
      "image/png": "[encoded data removed]",
      "text/plain": [
       "<Figure size 432x288 with 1 Axes>"
      ]
     },
     "metadata": {
      "needs_background": "light"
     },
     "output_type": "display_data"
    }
   ],
   "source": [
    "n = 50\n",
    "x = np.linspace( -1, 1, n )\n",
    "y = np.cos( 15*x**2 )\n",
    "\n",
    "# set up system matrix\n",
    "V = np.vander( x, increasing=True )\n",
    "a = gauss_solve( V, y )\n",
    "\n",
    "# plot output\n",
    "x = np.linspace( -1, 1, n )\n",
    "y = np.cos( 15*x**2 )\n",
    "xx = np.linspace( x.min(), x.max(), 100 )\n",
    "yy = np.polyval( np.flip(a), xx )\n",
    "\n",
    "plt.plot( xx, yy, 'r-', x, y, 'bo' );"
   ]
  },
  {
   "cell_type": "markdown",
   "metadata": {},
   "source": [
    "This does not look entirely right. In order to quantify the error, we can compute the norm of the _residual_ vector:\n",
    "\n",
    "$$r := y - Va $$\n"
   ]
  },
  {
   "cell_type": "code",
   "execution_count": 9,
   "metadata": {},
   "outputs": [
    {
     "data": {
      "text/plain": [
       "17.752303108487546"
      ]
     },
     "execution_count": 9,
     "metadata": {},
     "output_type": "execute_result"
    }
   ],
   "source": [
    "la.norm(y- np.matmul(V, a))"
   ]
  },
  {
   "cell_type": "markdown",
   "metadata": {},
   "source": [
    "and see that it is not actually small.\n",
    "\n",
    "The reason that the residual is so large lies in the ill-conditioned nature of the system matrix. NumPy gives us an easy way to compute the condition number of the system matrix, which indicates how much small errors are amplified when solving the system:\n"
   ]
  },
  {
   "cell_type": "code",
   "execution_count": 10,
   "metadata": {},
   "outputs": [
    {
     "data": {
      "text/plain": [
       "4.548112917510645e+18"
      ]
     },
     "execution_count": 10,
     "metadata": {},
     "output_type": "execute_result"
    }
   ],
   "source": [
    "la.cond( V )"
   ]
  },
  {
   "cell_type": "markdown",
   "metadata": {},
   "source": [
    "That is a big number. While the Gauss algorithm works well for well-conditioned problems, it is not stable enough to address severely ill-conditioned problems; hence it does not work well here.\n",
    "\n",
    "**Aside**: It is easy to see that the condition number increases rapidly with $n$:\n"
   ]
  },
  {
   "cell_type": "code",
   "execution_count": 11,
   "metadata": {},
   "outputs": [
    {
     "data": {
      "image/png": "[encoded data removed]",
      "text/plain": [
       "<Figure size 432x288 with 1 Axes>"
      ]
     },
     "metadata": {
      "needs_background": "light"
     },
     "output_type": "display_data"
    }
   ],
   "source": [
    "plt.plot( [np.log10(la.cond(np.vander(np.linspace(0,1,n)))) for n in range(1,20)] );"
   ]
  },
  {
   "cell_type": "markdown",
   "metadata": {},
   "source": [
    "As the number of points increases, the columns of the Vandermonde matrix become more and more similar and thus less and less linear independent; for 10 points, the condition number is already $\\approx 10^8$. In a sense, the system becomes more and more difficult to solve, leading to increasing problems in the application of numerical techniques. (This is quite typical behavior for many important numerical problems / techniques.)\n",
    "\n",
    "To remedy this, let's apply the LU decomposition with partial pivoting to solve this system. The purpose of the pivoting is to increase the numerical stability of the algorithm.\n",
    "\n",
    "<div class=\"alert alert-success\">\n",
    "\n",
    "**Task 3**: implement routines `lu_factor`, `fwd_subs` and `lu_solve` below for computing and using the LU decomposition with partial pivoting\n",
    "\n",
    "</div>\n"
   ]
  },
  {
   "cell_type": "code",
   "execution_count": 15,
   "metadata": {},
   "outputs": [],
   "source": [
    "import numpy as np\n",
    "\n",
    "def lu_factor(A):\n",
    "    \"\"\"Perform an LU decomposition PA = LU with partial pivoting of the square matrix A.\"\"\"\n",
    "    n = A.shape[0]\n",
    "    P = np.eye(n)  # Identity matrix for permutations\n",
    "    L = np.zeros_like(A)\n",
    "    U = A.copy()\n",
    "    \n",
    "    for i in range(n):\n",
    "        # Partial pivoting\n",
    "        max_index = np.argmax(np.abs(U[i:, i])) + i\n",
    "        if i != max_index:\n",
    "            U[[i, max_index], :] = U[[max_index, i], :]\n",
    "            P[[i, max_index], :] = P[[max_index, i], :]\n",
    "            if i > 0:\n",
    "                L[[i, max_index], :i] = L[[max_index, i], :i]\n",
    "        \n",
    "        # LU decomposition\n",
    "        L[i, i] = 1\n",
    "        for j in range(i+1, n):\n",
    "            L[j, i] = U[j, i] / U[i, i]\n",
    "            U[j, :] -= L[j, i] * U[i, :]\n",
    "    \n",
    "    return P, L, U\n",
    "\n",
    "\n",
    "def fwd_subs(L, b):\n",
    "    \"\"\"Solve the linear system Ly = b with lower triangular matrix L by forward substitution.\"\"\"\n",
    "    n = L.shape[0]\n",
    "    y = np.zeros_like(b)\n",
    "    \n",
    "    for i in range(n):\n",
    "        y[i] = b[i] - np.dot(L[i, :i], y[:i])\n",
    "    \n",
    "    return y\n",
    "\n",
    "\n",
    "def lu_solve(P, L, U, b):\n",
    "    \"\"\"Solve the linear system Ax = b with upper/lower triangular matrices U, L and permutation matrix P.\"\"\"\n",
    "    # Apply permutation to b\n",
    "    Pb = np.dot(P, b)\n",
    "    \n",
    "    # Forward substitution to solve Ly = Pb\n",
    "    y = fwd_subs(L, Pb)\n",
    "    \n",
    "    # Backward substitution to solve Ux = y\n",
    "    x = bwd_subs(U, y)\n",
    "    \n",
    "    return x\n",
    "\n",
    "    "
   ]
  },
  {
   "cell_type": "markdown",
   "metadata": {},
   "source": [
    "Let's apply this to our problem:\n"
   ]
  },
  {
   "cell_type": "code",
   "execution_count": 16,
   "metadata": {},
   "outputs": [
    {
     "name": "stdout",
     "output_type": "stream",
     "text": [
      "Residual = 1.122806381965036e-09\n"
     ]
    },
    {
     "data": {
      "image/png": "[encoded data removed]",
      "text/plain": [
       "<Figure size 432x288 with 1 Axes>"
      ]
     },
     "metadata": {
      "needs_background": "light"
     },
     "output_type": "display_data"
    }
   ],
   "source": [
    "import numpy.linalg as la\n",
    "import matplotlib.pyplot as plt\n",
    "\n",
    "# Define the problem\n",
    "n = 50\n",
    "x = np.linspace(-1, 1, n)\n",
    "y = np.cos(15 * x**2)\n",
    "\n",
    "# Set up the system matrix\n",
    "V = np.vander(x, increasing=True)\n",
    "\n",
    "# Perform LU decomposition\n",
    "P, L, U = lu_factor(V)\n",
    "a = lu_solve(P, L, U, y)\n",
    "\n",
    "# Compute the residual\n",
    "residual = la.norm(y - np.matmul(V, a))\n",
    "print(\"Residual =\", residual)\n",
    "\n",
    "# Plot the output\n",
    "xx = np.linspace(x.min(), x.max(), 200)\n",
    "yy = np.polyval(np.flip(a), xx)\n",
    "\n",
    "plt.plot(xx, yy, 'r-', label='Fitted Polynomial')\n",
    "plt.plot(x, y, 'bo', label='Data Points')\n",
    "plt.legend()\n",
    "plt.title(\"Polynomial Fit using LU Decomposition\")\n",
    "plt.xlabel(\"x\")\n",
    "plt.ylabel(\"y\")\n",
    "plt.show()\n"
   ]
  },
  {
   "cell_type": "markdown",
   "metadata": {},
   "source": [
    "---\n",
    "\n",
    "<div class=\"alert alert-info\">\n",
    "\n",
    "### Microbenchmarks\n",
    "\n",
    "</div>\n",
    "\n",
    "Beyond numerical stability from pivoting, the LU decomposition also has one other advantage: the elimination work is captured in $L$ and $U$ and does not have to be repeated if the same linear system must be solved repeatedly for different right-hand sides.\n",
    "\n",
    "This is a good opportunity to use a _microbenchmark_ to quickly get an idea whether this is true in practice. Let's create one using Jupyter's [`%%timeit`](https://ipython.readthedocs.io/en/stable/interactive/magics.html#magic-timeit) magic that measures the runtime of a single cell. First, set up a test problem, using again polynomial interpolation:\n"
   ]
  },
  {
   "cell_type": "code",
   "execution_count": 26,
   "metadata": {},
   "outputs": [
    {
     "name": "stdout",
     "output_type": "stream",
     "text": [
      "[[0.84973848 0.51766726 0.06218072 ... 0.43255302 0.56369251 0.30812977]\n",
      " [0.82160348 0.94723854 0.46624034 ... 0.52994    0.96817653 0.92075758]\n",
      " [0.73393522 0.59441446 0.93126784 ... 0.82908136 0.60030895 0.50795598]\n",
      " ...\n",
      " [0.48199522 0.45168793 0.3321834  ... 0.32483888 0.21414574 0.97760239]\n",
      " [0.35151742 0.15481323 0.89341336 ... 0.4687913  0.20871441 0.33832555]\n",
      " [0.00272127 0.78823174 0.34020785 ... 0.04924555 0.93547787 0.29931606]]\n"
     ]
    }
   ],
   "source": [
    "n = 40\n",
    "x = np.linspace( 0, 1, n )\n",
    "\n",
    "# set up the system matrix\n",
    "V = np.vander( x, increasing=True )\n",
    "\n",
    "# create m random right-hand sides\n",
    "m = 500\n",
    "y = np.random.random(size=(m,n))\n",
    "print(y)"
   ]
  },
  {
   "cell_type": "markdown",
   "metadata": {},
   "source": [
    "Now, we can measure the time required to do one decomposition and $m$ solutions:\n"
   ]
  },
  {
   "cell_type": "code",
   "execution_count": 27,
   "metadata": {},
   "outputs": [
    {
     "name": "stdout",
     "output_type": "stream",
     "text": [
      "123 ms ± 8.37 ms per loop (mean ± std. dev. of 7 runs, 10 loops each)\n"
     ]
    }
   ],
   "source": [
    "%%timeit\n",
    "\n",
    "P,L,U = lu_factor(V)\n",
    "for b in y:\n",
    "    a = lu_solve(P,L,U, b)"
   ]
  },
  {
   "cell_type": "markdown",
   "metadata": {},
   "source": [
    "<div class=\"alert alert-success\">\n",
    "\n",
    "**Task 4**: create a microbenchmark that uses `gauss_solve` to solve the system for each right-hand side.\n",
    "\n",
    "</div>\n"
   ]
  },
  {
   "cell_type": "code",
   "execution_count": 32,
   "metadata": {},
   "outputs": [
    {
     "name": "stdout",
     "output_type": "stream",
     "text": [
      "Time taken by gauss_solve for 500 right-hand sides: 1.152019 seconds\n"
     ]
    }
   ],
   "source": [
    "import timeit\n",
    "import numpy as np\n",
    "\n",
    "# Problem setup\n",
    "n = 40\n",
    "x = np.linspace(0, 1, n)\n",
    "\n",
    "# Set up the system matrix (Vandermonde matrix)\n",
    "V = np.vander(x, increasing=True)\n",
    "\n",
    "# Create m random right-hand sides\n",
    "m = 500\n",
    "y = np.random.random(size=(m, n))\n",
    "\n",
    "# Define a function to benchmark gauss_solve\n",
    "def benchmark_gauss_solve():\n",
    "    for b in y:\n",
    "        a = gauss_solve(V, b)\n",
    "\n",
    "# Measure the time taken\n",
    "execution_time = timeit.timeit(benchmark_gauss_solve, number=1)\n",
    "print(f\"Time taken by gauss_solve for {m} right-hand sides: {execution_time:.6f} seconds\")\n"
   ]
  },
  {
   "cell_type": "markdown",
   "metadata": {},
   "source": [
    "Depending on your implementation, the LU decomposition should be significantly faster on this particular problem.\n",
    "\n",
    "Note: this is not a rigorous benchmark; it may be influenced by many factors such as overall system load etc. However, `%%timeit` can be useful to get a quick idea of execution time. (See the [documentation](https://ipython.readthedocs.io/en/stable/interactive/magics.html#magic-timeit) for more info.)\n",
    "\n",
    "**Concluding remark**: While it was instructive for the purposes of this homework to implement Gauss elimination and LU decomposition by ourselves, for real-world use, NumPy's linear algebra module offers the routine [`numpy.linalg.solve`](https://docs.scipy.org/doc/numpy/reference/generated/numpy.linalg.solve.html), which is a state-of-the-art linear system solver with many tricks to improve numerical stability. Furthermore, the `scipy` module contains implementations of the LU(P) decomposition (cf. [`scipy.linalg.lu`](https://docs.scipy.org/doc/scipy-0.14.0/reference/generated/scipy.linalg.lu.html)).\n"
   ]
  }
 ],
 "metadata": {
  "kernelspec": {
   "display_name": "Python 3 (ipykernel)",
   "language": "python",
   "name": "python3"
  },
  "language_info": {
   "codemirror_mode": {
    "name": "ipython",
    "version": 3
   },
   "file_extension": ".py",
   "mimetype": "text/x-python",
   "name": "python",
   "nbconvert_exporter": "python",
   "pygments_lexer": "ipython3",
   "version": "3.9.7"
  }
 },
 "nbformat": 4,
 "nbformat_minor": 2
}
